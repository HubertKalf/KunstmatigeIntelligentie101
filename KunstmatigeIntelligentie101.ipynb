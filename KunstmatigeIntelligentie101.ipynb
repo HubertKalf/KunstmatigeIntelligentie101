{
 "cells": [
  {
   "cell_type": "markdown",
   "id": "b1204183-d00a-482e-9524-a2feabec4608",
   "metadata": {},
   "source": [
    "<h1>Kunstmatige Intelligentie 101</h1>"
   ]
  },
  {
   "cell_type": "code",
   "execution_count": null,
   "id": "58c0116c-1e75-4a17-b885-9fab578be02e",
   "metadata": {},
   "outputs": [],
   "source": [
    "import numpy as np\n",
    "import pandas as pd\n",
    "import matplotlib.pyplot as plt\n",
    "from tensorflow.keras import Sequential, Input\n",
    "from tensorflow.keras.layers import Dense\n",
    "from tensorflow.keras import backend\n",
    "from tensorflow.keras import initializers\n",
    "from tensorflow.keras.optimizers import Adam\n",
    "from tensorflow.keras.callbacks import EarlyStopping"
   ]
  },
  {
   "cell_type": "markdown",
   "id": "4ad0dee6-35c3-4100-b4f4-5a6be2f95afe",
   "metadata": {},
   "source": [
    "<h2>Gegevensinput</h2>"
   ]
  },
  {
   "cell_type": "code",
   "execution_count": null,
   "id": "9b63269c-727e-49d4-bc86-c38aef03eba9",
   "metadata": {},
   "outputs": [],
   "source": [
    "x1 = np.random.randint(1,11, 100)\n",
    "x2 = np.random.randint(1,11, 100)\n",
    "y = x1+x2\n",
    "df = pd.DataFrame([x1,x2,y], dtype=float, index=['x1','x2','y']).T\n",
    "df.head(3)"
   ]
  },
  {
   "cell_type": "code",
   "execution_count": null,
   "id": "cb4d07ac-bfe3-4fc3-b4a4-a3444fdd2653",
   "metadata": {},
   "outputs": [],
   "source": [
    "x = df[['x1','x2']]\n",
    "y = df['y']"
   ]
  },
  {
   "cell_type": "markdown",
   "id": "d9adacf5-9ff8-4b4a-ace1-ed9aab402e88",
   "metadata": {},
   "source": [
    "<h2>Modelontwerp</h2>"
   ]
  },
  {
   "cell_type": "code",
   "execution_count": null,
   "id": "2eb95930-2924-470a-b29d-2ad90c7242a5",
   "metadata": {},
   "outputs": [],
   "source": [
    "activation = 'linear'\n",
    "kernel_initializer=\"glorot_uniform\"\n",
    "bias_initializer=\"zeros\"\n",
    "\n",
    "model = Sequential()\n",
    "model.add(Input(shape=(2,)))\n",
    "model.add(Dense(8, activation=activation, kernel_initializer=kernel_initializer, bias_initializer=bias_initializer))\n",
    "model.add(Dense(1, activation=activation, kernel_initializer=kernel_initializer, bias_initializer=bias_initializer))\n",
    "#model.summary()"
   ]
  },
  {
   "cell_type": "markdown",
   "id": "cd442d41-8cb3-42aa-9686-6de5a8707daa",
   "metadata": {},
   "source": [
    "<h2>Modeltraining</h2>"
   ]
  },
  {
   "cell_type": "code",
   "execution_count": null,
   "id": "950d7cec-0938-4b41-a620-e969c04ba891",
   "metadata": {},
   "outputs": [],
   "source": [
    "callback = EarlyStopping(monitor='loss',patience=10)\n",
    "optimizer = Adam(learning_rate=0.01)\n",
    "model.compile(optimizer=optimizer, loss='mse')\n",
    "hist = model.fit(x, y, batch_size=10, epochs=100, callbacks=[callback], verbose=0)\n",
    "print(f\"epoches run: {len(hist.history['loss'])}\")"
   ]
  },
  {
   "cell_type": "markdown",
   "id": "299edfcf-7981-4316-934a-cd8b218e4e00",
   "metadata": {},
   "source": [
    "<h2>Analyseren</h2>"
   ]
  },
  {
   "cell_type": "code",
   "execution_count": null,
   "id": "4bc58cb1-c208-47d5-b81d-dccbc107c88c",
   "metadata": {},
   "outputs": [],
   "source": [
    "plt.plot(hist.history['loss'])"
   ]
  },
  {
   "cell_type": "markdown",
   "id": "23b43065-a84e-4ab2-a8f4-2ef18a93e168",
   "metadata": {},
   "source": [
    "<h2>Voorspellen</h2>"
   ]
  },
  {
   "cell_type": "code",
   "execution_count": null,
   "id": "983f57c0-4f54-446f-84ce-378fec84068e",
   "metadata": {},
   "outputs": [],
   "source": [
    "t1 = np.random.randint(1,11, 100)\n",
    "t2 = np.random.randint(1,11, 100)\n",
    "dfTest = pd.DataFrame([t1,t2], dtype=float).T\n",
    "\n",
    "predictions = model.predict(dfTest)\n",
    "for i in np.arange(100):\n",
    "    print(f\"{t1[i]} + {t2[i]} = {t1[i]+t2[i]} model output: {predictions[i].item()}\")"
   ]
  },
  {
   "cell_type": "code",
   "execution_count": null,
   "id": "ef9c1359-5f78-4217-9932-bc12eb4c4e37",
   "metadata": {},
   "outputs": [],
   "source": [
    "plt.plot(t1+t2, label='actual', linestyle='None', marker='o')\n",
    "plt.plot(predictions, label='predicted', linestyle='None', marker='.')\n",
    "plt.legend()\n",
    "plt.show()"
   ]
  },
  {
   "cell_type": "markdown",
   "id": "de3d2385-6e0c-4c8b-8b2c-48d585a4d424",
   "metadata": {},
   "source": [
    "<h2>Gebruiken model</h2>"
   ]
  },
  {
   "cell_type": "code",
   "execution_count": null,
   "id": "7fe5a719-fdc6-4d22-ba50-e63d613f70e4",
   "metadata": {},
   "outputs": [],
   "source": [
    "weights1, biases1 = model.layers[0].get_weights()\n",
    "biases1 = biases1.reshape(1,8)\n",
    "\n",
    "weights2, biases2 = model.layers[1].get_weights()\n",
    "weights2 = weights2.T\n",
    "biases2 = np.hstack([biases2, np.zeros([7])])\n",
    "biases2 = biases2.reshape(1,8)\n",
    "\n",
    "weightsbiases = np.concatenate((weights1, biases1, weights2, biases2), axis=0)\n",
    "\n",
    "dfweightsbiases = pd.DataFrame(weightsbiases, index=['w11', 'w12', 'b1', 'w21', 'b2'])\n",
    "dfweightsbiases = dfweightsbiases.T\n",
    "dfweightsbiases\n",
    "#dfweightsbiases.to_excel(\"c:\\\\temp\\\\weightsbiases.xlsx\")"
   ]
  }
 ],
 "metadata": {
  "kernelspec": {
   "display_name": "Python 3 (ipykernel)",
   "language": "python",
   "name": "python3"
  },
  "language_info": {
   "codemirror_mode": {
    "name": "ipython",
    "version": 3
   },
   "file_extension": ".py",
   "mimetype": "text/x-python",
   "name": "python",
   "nbconvert_exporter": "python",
   "pygments_lexer": "ipython3",
   "version": "3.12.1"
  }
 },
 "nbformat": 4,
 "nbformat_minor": 5
}
